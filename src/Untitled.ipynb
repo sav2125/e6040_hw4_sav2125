{
 "cells": [
  {
   "cell_type": "code",
   "execution_count": 1,
   "metadata": {
    "collapsed": false
   },
   "outputs": [
    {
     "name": "stderr",
     "output_type": "stream",
     "text": [
      "Using gpu device 0: GRID K520\n"
     ]
    }
   ],
   "source": [
    "import matplotlib\n",
    "import pylab\n",
    "import numpy as np\n",
    "embed = np.load('../result/embeddings.npy')\n",
    "from hw4a import *\n",
    "from hw4b import *\n",
    "%matplotlib inline\n",
    "import scipy as sc\n",
    "train_set, valid_set, test_set, dic = load_data(3)"
   ]
  },
  {
   "cell_type": "code",
   "execution_count": 13,
   "metadata": {
    "collapsed": false
   },
   "outputs": [
    {
     "name": "stdout",
     "output_type": "stream",
     "text": [
      "airfare : train and  returning : train\n",
      "also : train and  returning : train\n",
      "database : train and  returning : train\n",
      "your : train and  returning : train\n",
      "sometime : train and  returning : train\n",
      "meaning : train and  returning : train\n",
      "flying : train and  returning : train\n",
      "say : train and  returning : train\n",
      "goes : train and  returning : train\n",
      "airplane : train and  returning : train\n",
      "transcontinental : train and  returning : train\n",
      "an : train and  returning : train\n",
      "see : train and  returning : train\n",
      "planes : train and  returning : train\n"
     ]
    }
   ],
   "source": [
    "cos_val = {}\n",
    "dicton = {}\n",
    "dicton2 = {}\n",
    "for key, value in dic['words2idx'].iteritems():\n",
    "    dicton[key] = embed[value]\n",
    "    \n",
    "for index1 in dicton:\n",
    "    for index2 in dicton:\n",
    "        if index1 != index2 :\n",
    "            key = index1 + \" : \" + index2\n",
    "            dicton2[key] = dicton[index1] - dicton[index2]\n",
    "count = 1\n",
    "for i1 in dicton2:\n",
    "    #count = count + 1\n",
    "    #if(count > 1000000000):\n",
    "     #   break\n",
    "    for i2 in dicton2:\n",
    "        if i1 != i2:\n",
    "            dist = sc.spatial.distance.cosine(dicton2[i1] , dicton2[i2])\n",
    "            if (dist > 0.15):\n",
    "                break\n",
    "            else:\n",
    "                print i1 + ' and  ' + i2\n",
    "                cos_val[i1 + ' and  ' + i2] = cos_val\n"
   ]
  },
  {
   "cell_type": "code",
   "execution_count": null,
   "metadata": {
    "collapsed": true
   },
   "outputs": [],
   "source": []
  }
 ],
 "metadata": {
  "kernelspec": {
   "display_name": "Python 2",
   "language": "python",
   "name": "python2"
  },
  "language_info": {
   "codemirror_mode": {
    "name": "ipython",
    "version": 2
   },
   "file_extension": ".py",
   "mimetype": "text/x-python",
   "name": "python",
   "nbconvert_exporter": "python",
   "pygments_lexer": "ipython2",
   "version": "2.7.11"
  }
 },
 "nbformat": 4,
 "nbformat_minor": 0
}
